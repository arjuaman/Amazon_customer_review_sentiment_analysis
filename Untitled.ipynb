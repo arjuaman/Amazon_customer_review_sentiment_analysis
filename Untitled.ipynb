{
 "cells": [
  {
   "cell_type": "code",
   "execution_count": 1,
   "metadata": {},
   "outputs": [],
   "source": [
    "import pandas as pd\n",
    "import numpy as np"
   ]
  },
  {
   "cell_type": "code",
   "execution_count": 2,
   "metadata": {},
   "outputs": [
    {
     "name": "stdout",
     "output_type": "stream",
     "text": [
      "(1200, 2)\n"
     ]
    },
    {
     "data": {
      "text/html": [
       "<div>\n",
       "<style scoped>\n",
       "    .dataframe tbody tr th:only-of-type {\n",
       "        vertical-align: middle;\n",
       "    }\n",
       "\n",
       "    .dataframe tbody tr th {\n",
       "        vertical-align: top;\n",
       "    }\n",
       "\n",
       "    .dataframe thead th {\n",
       "        text-align: right;\n",
       "    }\n",
       "</style>\n",
       "<table border=\"1\" class=\"dataframe\">\n",
       "  <thead>\n",
       "    <tr style=\"text-align: right;\">\n",
       "      <th></th>\n",
       "      <th>stars</th>\n",
       "      <th>comment</th>\n",
       "    </tr>\n",
       "  </thead>\n",
       "  <tbody>\n",
       "    <tr>\n",
       "      <th>0</th>\n",
       "      <td>5.0 out of 5 stars</td>\n",
       "      <td>\\n\\n\\n\\n\\n\\n\\n\\n\\n\\n  \\n  \\n    \\n  I have not...</td>\n",
       "    </tr>\n",
       "    <tr>\n",
       "      <th>1</th>\n",
       "      <td>5.0 out of 5 stars</td>\n",
       "      <td>\\n\\n\\n\\n\\n\\n\\n\\n\\n\\n  \\n  \\n    \\n  Pros:-Scre...</td>\n",
       "    </tr>\n",
       "    <tr>\n",
       "      <th>2</th>\n",
       "      <td>2.0 out of 5 stars</td>\n",
       "      <td>\\n\\n\\n\\n\\n\\n\\n\\n\\n\\n  \\n  \\n    \\n  Watch out ...</td>\n",
       "    </tr>\n",
       "    <tr>\n",
       "      <th>3</th>\n",
       "      <td>4.0 out of 5 stars</td>\n",
       "      <td>\\n\\n\\n\\n\\n\\n\\n\\n\\n\\n  \\n  \\n    \\n  Let me sta...</td>\n",
       "    </tr>\n",
       "    <tr>\n",
       "      <th>4</th>\n",
       "      <td>4.0 out of 5 stars</td>\n",
       "      <td>\\n\\n\\n\\n\\n\\n\\n\\n\\n\\n  \\n  \\n    \\n  Really lov...</td>\n",
       "    </tr>\n",
       "  </tbody>\n",
       "</table>\n",
       "</div>"
      ],
      "text/plain": [
       "                stars                                            comment\n",
       "0  5.0 out of 5 stars  \\n\\n\\n\\n\\n\\n\\n\\n\\n\\n  \\n  \\n    \\n  I have not...\n",
       "1  5.0 out of 5 stars  \\n\\n\\n\\n\\n\\n\\n\\n\\n\\n  \\n  \\n    \\n  Pros:-Scre...\n",
       "2  2.0 out of 5 stars  \\n\\n\\n\\n\\n\\n\\n\\n\\n\\n  \\n  \\n    \\n  Watch out ...\n",
       "3  4.0 out of 5 stars  \\n\\n\\n\\n\\n\\n\\n\\n\\n\\n  \\n  \\n    \\n  Let me sta...\n",
       "4  4.0 out of 5 stars  \\n\\n\\n\\n\\n\\n\\n\\n\\n\\n  \\n  \\n    \\n  Really lov..."
      ]
     },
     "execution_count": 2,
     "metadata": {},
     "output_type": "execute_result"
    }
   ],
   "source": [
    "df = pd.read_csv(\"reviews.csv\")\n",
    "print(df.shape)\n",
    "df.head()"
   ]
  },
  {
   "cell_type": "code",
   "execution_count": 3,
   "metadata": {},
   "outputs": [
    {
     "data": {
      "text/plain": [
       "\"\\n\\n\\n\\n\\n\\n\\n\\n\\n\\n  \\n  \\n    \\n  I have nothing negative to say about this phone so far. Even though it is more expensive than previous OP phones it is still cheaper than comparable flagships with similar specs.Upgrading from a OP 5T to the 8 Pro.  No display problems and it was a seemless transition between phones.  Within a few hours I had it transferred and setup.  The screen is gorgeous and responsive.  The inscreen fingerprint sensor and facial recognition are quick and accurate.  The camera is a huge step up even though the 5T camera was pretty good.  I love the dual speakers.  No I don't constantly muffle the sound when playing games in landscape mode.  COD mobile is performing better with higher graphics settings and the battery life is noticeably longer even with the phone settings maxed out.Also to note, don't listen to these negative reviewers about the Amazon Alexa.  These people haven't even purchased the device and their reviews should be deleted because they are ignorant.  The phone does not come with Amazon Alexa.  It merely supports it.  Just like it also supports Google Assistant(Natively) you have to install Amazon Alexa if you want it.\\n\\n  \\n\""
      ]
     },
     "execution_count": 3,
     "metadata": {},
     "output_type": "execute_result"
    }
   ],
   "source": [
    "df[\"comment\"][0]"
   ]
  },
  {
   "cell_type": "code",
   "execution_count": 5,
   "metadata": {},
   "outputs": [
    {
     "data": {
      "text/plain": [
       "5.0 out of 5 stars    480\n",
       "1.0 out of 5 stars    360\n",
       "4.0 out of 5 stars    240\n",
       "2.0 out of 5 stars    120\n",
       "Name: stars, dtype: int64"
      ]
     },
     "execution_count": 5,
     "metadata": {},
     "output_type": "execute_result"
    }
   ],
   "source": [
    "df[\"stars\"].value_counts()"
   ]
  },
  {
   "cell_type": "code",
   "execution_count": 6,
   "metadata": {},
   "outputs": [
    {
     "data": {
      "text/plain": [
       "stars      0\n",
       "comment    0\n",
       "dtype: int64"
      ]
     },
     "execution_count": 6,
     "metadata": {},
     "output_type": "execute_result"
    }
   ],
   "source": [
    "df.isnull().sum()"
   ]
  },
  {
   "cell_type": "code",
   "execution_count": 9,
   "metadata": {},
   "outputs": [],
   "source": [
    "#df[\"ratings\"]=df[\"stars\"].str.split(\".\")[0]   18gaps"
   ]
  },
  {
   "cell_type": "code",
   "execution_count": 10,
   "metadata": {},
   "outputs": [],
   "source": [
    "df[[\"ratings\",\"_\"]] = df[\"stars\"].str.split('.',expand=True)"
   ]
  },
  {
   "cell_type": "code",
   "execution_count": 11,
   "metadata": {},
   "outputs": [
    {
     "data": {
      "text/html": [
       "<div>\n",
       "<style scoped>\n",
       "    .dataframe tbody tr th:only-of-type {\n",
       "        vertical-align: middle;\n",
       "    }\n",
       "\n",
       "    .dataframe tbody tr th {\n",
       "        vertical-align: top;\n",
       "    }\n",
       "\n",
       "    .dataframe thead th {\n",
       "        text-align: right;\n",
       "    }\n",
       "</style>\n",
       "<table border=\"1\" class=\"dataframe\">\n",
       "  <thead>\n",
       "    <tr style=\"text-align: right;\">\n",
       "      <th></th>\n",
       "      <th>stars</th>\n",
       "      <th>comment</th>\n",
       "      <th>ratings</th>\n",
       "      <th>_</th>\n",
       "    </tr>\n",
       "  </thead>\n",
       "  <tbody>\n",
       "    <tr>\n",
       "      <th>0</th>\n",
       "      <td>5.0 out of 5 stars</td>\n",
       "      <td>\\n\\n\\n\\n\\n\\n\\n\\n\\n\\n  \\n  \\n    \\n  I have not...</td>\n",
       "      <td>5</td>\n",
       "      <td>0 out of 5 stars</td>\n",
       "    </tr>\n",
       "    <tr>\n",
       "      <th>1</th>\n",
       "      <td>5.0 out of 5 stars</td>\n",
       "      <td>\\n\\n\\n\\n\\n\\n\\n\\n\\n\\n  \\n  \\n    \\n  Pros:-Scre...</td>\n",
       "      <td>5</td>\n",
       "      <td>0 out of 5 stars</td>\n",
       "    </tr>\n",
       "    <tr>\n",
       "      <th>2</th>\n",
       "      <td>2.0 out of 5 stars</td>\n",
       "      <td>\\n\\n\\n\\n\\n\\n\\n\\n\\n\\n  \\n  \\n    \\n  Watch out ...</td>\n",
       "      <td>2</td>\n",
       "      <td>0 out of 5 stars</td>\n",
       "    </tr>\n",
       "    <tr>\n",
       "      <th>3</th>\n",
       "      <td>4.0 out of 5 stars</td>\n",
       "      <td>\\n\\n\\n\\n\\n\\n\\n\\n\\n\\n  \\n  \\n    \\n  Let me sta...</td>\n",
       "      <td>4</td>\n",
       "      <td>0 out of 5 stars</td>\n",
       "    </tr>\n",
       "    <tr>\n",
       "      <th>4</th>\n",
       "      <td>4.0 out of 5 stars</td>\n",
       "      <td>\\n\\n\\n\\n\\n\\n\\n\\n\\n\\n  \\n  \\n    \\n  Really lov...</td>\n",
       "      <td>4</td>\n",
       "      <td>0 out of 5 stars</td>\n",
       "    </tr>\n",
       "  </tbody>\n",
       "</table>\n",
       "</div>"
      ],
      "text/plain": [
       "                stars                                            comment  \\\n",
       "0  5.0 out of 5 stars  \\n\\n\\n\\n\\n\\n\\n\\n\\n\\n  \\n  \\n    \\n  I have not...   \n",
       "1  5.0 out of 5 stars  \\n\\n\\n\\n\\n\\n\\n\\n\\n\\n  \\n  \\n    \\n  Pros:-Scre...   \n",
       "2  2.0 out of 5 stars  \\n\\n\\n\\n\\n\\n\\n\\n\\n\\n  \\n  \\n    \\n  Watch out ...   \n",
       "3  4.0 out of 5 stars  \\n\\n\\n\\n\\n\\n\\n\\n\\n\\n  \\n  \\n    \\n  Let me sta...   \n",
       "4  4.0 out of 5 stars  \\n\\n\\n\\n\\n\\n\\n\\n\\n\\n  \\n  \\n    \\n  Really lov...   \n",
       "\n",
       "  ratings                 _  \n",
       "0       5  0 out of 5 stars  \n",
       "1       5  0 out of 5 stars  \n",
       "2       2  0 out of 5 stars  \n",
       "3       4  0 out of 5 stars  \n",
       "4       4  0 out of 5 stars  "
      ]
     },
     "execution_count": 11,
     "metadata": {},
     "output_type": "execute_result"
    }
   ],
   "source": [
    "df.head()"
   ]
  },
  {
   "cell_type": "code",
   "execution_count": 12,
   "metadata": {},
   "outputs": [],
   "source": [
    "import re"
   ]
  },
  {
   "cell_type": "code",
   "execution_count": 26,
   "metadata": {},
   "outputs": [
    {
     "name": "stdout",
     "output_type": "stream",
     "text": [
      "I have nothing negative to say about this phone so far. Even though it is more expensive than previous OP phones it is still cheaper than comparable flagships with similar specs.Upgrading from a OP 5T to the 8 Pro.  No display problems and it was a seemless transition between phones.  Within a few hours I had it transferred and setup.  The screen is gorgeous and responsive.  The inscreen fingerprint sensor and facial recognition are quick and accurate.  The camera is a huge step up even though the 5T camera was pretty good.  I love the dual speakers.  No I don't constantly muffle the sound when playing games in landscape mode.  COD mobile is performing better with higher graphics settings and the battery life is noticeably longer even with the phone settings maxed out.Also to note, don't listen to these negative reviewers about the Amazon Alexa.  These people haven't even purchased the device and their reviews should be deleted because they are ignorant.  The phone does not come with Amazon Alexa.  It merely supports it.  Just like it also supports Google Assistant(Natively) you have to install Amazon Alexa if you want it.\n",
      "Pros:-Screen is beautiful, a slightly bigger resolution from the previous generation of phones.  Do I really need to say the 120Hz is absolutely stunning?!-Speakers are LOUD, honestly did not expect the level they produce, they are by no means audiophile but they do a good job.-Responsiveness to touch is next level, I've used Apple's and Samsung's flagships, and I really enjoy the  smoothness of transitions between applications, faster than the competitors I have tried.-Oxygen OS is by far one of my favorites of the phone, it's lightweight and not bogged down by anything.-Games run very smooth!-Battery life is pretty amazing, 4500mah last a LONG timeCons-Some people may be turned off that by default Netflix comes installed on the phone(Though the HDR on it is AMAZING LOOKING)-Transitioning from an Apple or Samsung may leave some software features to desire, possibly UI issues you do not like.  However there is a great deal of customization with this phone so it has never been an issue with me.ALEXA-Alexa DOES NOT COME INSTALLED BY DEFAULT, PLEASE STOP DOWN VOTING FOR A PHONE YOU DON'T EVEN HAVE.-That being said if you want alexa, it's in the app store, if not you're set!Conclusion-This phone was controversial in a that it was a flagship, from a company that has historically against flagships.  However, it is an absolutely superb piece of technology that is well worth the money.\n",
      "Watch out for green/ red tint issues on the display.Screen also has issues with losing details on dark scenes in Netflix  with HDR content . OnePlus says the issues will be fixed with a software update.Phone is fast. Screen display looks amazing except for those above flaws . Camera is fine . Blue is beautiful.\n",
      "Let me start off with saying those concerned aboutthe Alexa integration because of Amazon, it doesn't even come preinstalled. Those complaints are non-issues and the people who complained are to be ignored imo.This is a fantastic hunk of tech. I was slightly concerned I'd experience the screen toht issue, but I was lucky. The camera is a giant upgrade from my old 3T from 2016 and the feel is fantastic. Super smooth, super responsive, super clear.The only cons are that the included screen protectors were ruined by some tiny chunks of something that managed to fly into both (can't blame OnePlus for that because I have animals but it still sucked. I'd have liked a more robust applicator included, not just freehanding). The other is that gesture controls are a bit finicky at times with the edge of the screen, but the included case helps a lot there. Everything else is brilliant. Attached are some pictures of my animals using the phone. The dog was with portrait mode, the cat was nightscape.EDIT: SCREEN TINT DISCOVERYA few days ago I finally noticed the screen tint and where/why it happens. It ONLY happens in very low light. For example: laying in bed with lights off, and only in some apps. If you even bump the screen brightness a little manually, it goes away. If you have even a corner lamp on near you, it goes away. In my testing, Reddit gets a slight red tint and YouTube gets a slight green one. these are the only places I've really noticed it, and it's only in dark mode layouts as far as I've tested.All-in-all, it's a very minor issue that could be and will likely be fixed or adjusted for in future major updates to OxygenOS. Those complaining about it as a completely unforgivable negative should breathe a bit and relax. I'll dock a point from my original 5 stars for it, but as far as I'm concerned, it's not ruining my experience or life and I see no reason to return the phone. Your mileage may vary in that opinion, but I figured I should update this review\n"
     ]
    }
   ],
   "source": [
    "count=0\n",
    "for i in range(0,4):\n",
    "    x=(df[\"comment\"][i][23:])\n",
    "    x=x[:-5]\n",
    "    print(x)"
   ]
  },
  {
   "cell_type": "code",
   "execution_count": 27,
   "metadata": {},
   "outputs": [],
   "source": [
    "def clean_from_front(text):\n",
    "    text = text[23:]\n",
    "    text = text[:-5]\n",
    "    return text"
   ]
  },
  {
   "cell_type": "code",
   "execution_count": 29,
   "metadata": {},
   "outputs": [],
   "source": [
    "df[\"clean_comment\"]=df[\"comment\"].apply(lambda x: clean_from_front(x))"
   ]
  },
  {
   "cell_type": "code",
   "execution_count": 30,
   "metadata": {},
   "outputs": [
    {
     "data": {
      "text/html": [
       "<div>\n",
       "<style scoped>\n",
       "    .dataframe tbody tr th:only-of-type {\n",
       "        vertical-align: middle;\n",
       "    }\n",
       "\n",
       "    .dataframe tbody tr th {\n",
       "        vertical-align: top;\n",
       "    }\n",
       "\n",
       "    .dataframe thead th {\n",
       "        text-align: right;\n",
       "    }\n",
       "</style>\n",
       "<table border=\"1\" class=\"dataframe\">\n",
       "  <thead>\n",
       "    <tr style=\"text-align: right;\">\n",
       "      <th></th>\n",
       "      <th>stars</th>\n",
       "      <th>comment</th>\n",
       "      <th>ratings</th>\n",
       "      <th>_</th>\n",
       "      <th>clean_comment</th>\n",
       "    </tr>\n",
       "  </thead>\n",
       "  <tbody>\n",
       "    <tr>\n",
       "      <th>0</th>\n",
       "      <td>5.0 out of 5 stars</td>\n",
       "      <td>\\n\\n\\n\\n\\n\\n\\n\\n\\n\\n  \\n  \\n    \\n  I have not...</td>\n",
       "      <td>5</td>\n",
       "      <td>0 out of 5 stars</td>\n",
       "      <td>I have nothing negative to say about this phon...</td>\n",
       "    </tr>\n",
       "    <tr>\n",
       "      <th>1</th>\n",
       "      <td>5.0 out of 5 stars</td>\n",
       "      <td>\\n\\n\\n\\n\\n\\n\\n\\n\\n\\n  \\n  \\n    \\n  Pros:-Scre...</td>\n",
       "      <td>5</td>\n",
       "      <td>0 out of 5 stars</td>\n",
       "      <td>Pros:-Screen is beautiful, a slightly bigger r...</td>\n",
       "    </tr>\n",
       "    <tr>\n",
       "      <th>2</th>\n",
       "      <td>2.0 out of 5 stars</td>\n",
       "      <td>\\n\\n\\n\\n\\n\\n\\n\\n\\n\\n  \\n  \\n    \\n  Watch out ...</td>\n",
       "      <td>2</td>\n",
       "      <td>0 out of 5 stars</td>\n",
       "      <td>Watch out for green/ red tint issues on the di...</td>\n",
       "    </tr>\n",
       "    <tr>\n",
       "      <th>3</th>\n",
       "      <td>4.0 out of 5 stars</td>\n",
       "      <td>\\n\\n\\n\\n\\n\\n\\n\\n\\n\\n  \\n  \\n    \\n  Let me sta...</td>\n",
       "      <td>4</td>\n",
       "      <td>0 out of 5 stars</td>\n",
       "      <td>Let me start off with saying those concerned a...</td>\n",
       "    </tr>\n",
       "    <tr>\n",
       "      <th>4</th>\n",
       "      <td>4.0 out of 5 stars</td>\n",
       "      <td>\\n\\n\\n\\n\\n\\n\\n\\n\\n\\n  \\n  \\n    \\n  Really lov...</td>\n",
       "      <td>4</td>\n",
       "      <td>0 out of 5 stars</td>\n",
       "      <td>Really love the design of the phone. Reminds m...</td>\n",
       "    </tr>\n",
       "  </tbody>\n",
       "</table>\n",
       "</div>"
      ],
      "text/plain": [
       "                stars                                            comment  \\\n",
       "0  5.0 out of 5 stars  \\n\\n\\n\\n\\n\\n\\n\\n\\n\\n  \\n  \\n    \\n  I have not...   \n",
       "1  5.0 out of 5 stars  \\n\\n\\n\\n\\n\\n\\n\\n\\n\\n  \\n  \\n    \\n  Pros:-Scre...   \n",
       "2  2.0 out of 5 stars  \\n\\n\\n\\n\\n\\n\\n\\n\\n\\n  \\n  \\n    \\n  Watch out ...   \n",
       "3  4.0 out of 5 stars  \\n\\n\\n\\n\\n\\n\\n\\n\\n\\n  \\n  \\n    \\n  Let me sta...   \n",
       "4  4.0 out of 5 stars  \\n\\n\\n\\n\\n\\n\\n\\n\\n\\n  \\n  \\n    \\n  Really lov...   \n",
       "\n",
       "  ratings                 _                                      clean_comment  \n",
       "0       5  0 out of 5 stars  I have nothing negative to say about this phon...  \n",
       "1       5  0 out of 5 stars  Pros:-Screen is beautiful, a slightly bigger r...  \n",
       "2       2  0 out of 5 stars  Watch out for green/ red tint issues on the di...  \n",
       "3       4  0 out of 5 stars  Let me start off with saying those concerned a...  \n",
       "4       4  0 out of 5 stars  Really love the design of the phone. Reminds m...  "
      ]
     },
     "execution_count": 30,
     "metadata": {},
     "output_type": "execute_result"
    }
   ],
   "source": [
    "df.head()"
   ]
  },
  {
   "cell_type": "code",
   "execution_count": 32,
   "metadata": {},
   "outputs": [
    {
     "data": {
      "text/plain": [
       "\"Pros:-Screen is beautiful, a slightly bigger resolution from the previous generation of phones.  Do I really need to say the 120Hz is absolutely stunning?!-Speakers are LOUD, honestly did not expect the level they produce, they are by no means audiophile but they do a good job.-Responsiveness to touch is next level, I've used Apple's and Samsung's flagships, and I really enjoy the  smoothness of transitions between applications, faster than the competitors I have tried.-Oxygen OS is by far one of my favorites of the phone, it's lightweight and not bogged down by anything.-Games run very smooth!-Battery life is pretty amazing, 4500mah last a LONG timeCons-Some people may be turned off that by default Netflix comes installed on the phone(Though the HDR on it is AMAZING LOOKING)-Transitioning from an Apple or Samsung may leave some software features to desire, possibly UI issues you do not like.  However there is a great deal of customization with this phone so it has never been an issue with me.ALEXA-Alexa DOES NOT COME INSTALLED BY DEFAULT, PLEASE STOP DOWN VOTING FOR A PHONE YOU DON'T EVEN HAVE.-That being said if you want alexa, it's in the app store, if not you're set!Conclusion-This phone was controversial in a that it was a flagship, from a company that has historically against flagships.  However, it is an absolutely superb piece of technology that is well worth the money.\""
      ]
     },
     "execution_count": 32,
     "metadata": {},
     "output_type": "execute_result"
    }
   ],
   "source": [
    "df[\"clean_comment\"][1]"
   ]
  },
  {
   "cell_type": "code",
   "execution_count": null,
   "metadata": {},
   "outputs": [],
   "source": []
  }
 ],
 "metadata": {
  "kernelspec": {
   "display_name": "Python 3",
   "language": "python",
   "name": "python3"
  },
  "language_info": {
   "codemirror_mode": {
    "name": "ipython",
    "version": 3
   },
   "file_extension": ".py",
   "mimetype": "text/x-python",
   "name": "python",
   "nbconvert_exporter": "python",
   "pygments_lexer": "ipython3",
   "version": "3.7.7"
  }
 },
 "nbformat": 4,
 "nbformat_minor": 4
}
